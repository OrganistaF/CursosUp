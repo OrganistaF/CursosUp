{
  "nbformat": 4,
  "nbformat_minor": 0,
  "metadata": {
    "colab": {
      "name": "POO_9.1ipynb",
      "provenance": []
    },
    "kernelspec": {
      "name": "python3",
      "display_name": "Python 3"
    },
    "language_info": {
      "name": "python"
    }
  },
  "cells": [
    {
      "cell_type": "markdown",
      "source": [
        "## Ejercicio\n",
        "\n",
        "### 1. Situación:  \n",
        "\n",
        "Se tiene una empresa con programadores, secretarias y gerentes.  \n",
        "\n",
        "Los programadores y las secretarias reciben un sueldo base más un bono por antigüedad de \\$1000 por año trabajado.  \n",
        "\n",
        "Los gerentes sólo reciben su salario.  \n",
        "\n",
        "Los gerentes pueden aumentar el salario de los programadores en cualquer momento.  \n",
        "\n",
        "Todos tienen una función trabajar, pero el gerente gerencia; el programador programa y la secretaria apoya.\n",
        "\n",
        "Para subirlos al sistema, se conoce la antigüedad, el nombre y el puesto de la persona.  \n",
        "\n",
        "Las clases que modelen el sistema deben incluir un método que calcule el salario adecuadamente y lo regrese \n",
        "\n",
        "para imprimirlo.\n",
        "\n",
        "    \n",
        "\n",
        "Salarios base:\n",
        "\n",
        "- Gerentes: __\\$50,000__  \n",
        "\n",
        "- Secretarias: __\\$15,000__   \n",
        "\n",
        "- Programadores: __\\$25,000__  \n",
        "\n",
        "    \n",
        "\n",
        "### 1. Objetivos    \n",
        "\n",
        "    1. Modela las clases necesarias para representar esta situación.\n",
        "\n",
        "    2. Programar las clases utilizando herencia\n",
        "\n",
        "    3. Crear una prueba en la que se generen uno de cada tipo de empleado y se utilice por lo menos una vez cada función.\n"
      ],
      "metadata": {
        "id": "YjRecdwLDLzq"
      }
    },
    {
      "cell_type": "code",
      "source": [
        "class Trabajadores:\n",
        "    nombre: str\n",
        "    puesto: str\n",
        "    antiguedad: int\n",
        "    salario: int\n",
        "    def __init__(self, nombre, puesto, antiguedad):\n",
        "        self.nombre= nombre\n",
        "        self.puesto= puesto\n",
        "        self.antiguedad= antiguedad\n",
        "        if self.puesto == \"gerente\":\n",
        "            self.salario= 50000\n",
        "        elif self.puesto == \"secretaria\":\n",
        "            self.salario= 15000 \n",
        "        elif self.puesto == \"programador\":\n",
        "            self.salario= 25000\n",
        "        else:\n",
        "          self.salario = 0\n",
        "        \n",
        "    def __repr__(self):\n",
        "         return self.nombre + \" es \" + self.puesto + \" y tiene de antiguedad \" + str(self.antiguedad) + \" años.\"\n",
        "    def nomina(self):\n",
        "      if self.puesto == \"gerente\":\n",
        "          return self.salario\n",
        "      if self.puesto == \"secretaria\":\n",
        "           return self.salario + (self.antiguedad * 1000)\n",
        "      if self.puesto == \"programador\":\n",
        "           return self.salario + (self.antiguedad * 1000)\n",
        "\n",
        "class Gerente(Trabajadores):\n",
        "    def dar_aumento(self, pragmatico):\n",
        "        aumento= int(input())\n",
        "        pragmatico.salario+= aumento\n",
        "    def trabajar(self):\n",
        "      print(\"Me encanta gerenciar\")\n",
        "\n",
        "class Secretaria(Trabajadores):\n",
        "    def trabajar(self):\n",
        "      print(\"Me encanta apoyar\")\n",
        "\n",
        "class Programador(Trabajadores):\n",
        "    def trabajar(self):\n",
        "      print(\"Me encanta programar\") "
      ],
      "metadata": {
        "id": "Tu8dcbuYD8ws"
      },
      "execution_count": null,
      "outputs": []
    },
    {
      "cell_type": "code",
      "source": [
        "fullStack= Programador(\"Luis\", \"programador\", 1)\n",
        "print(fullStack)\n",
        "fullStack.trabajar()\n",
        "print(fullStack.nomina())\n",
        "print(\"\\n\")\n",
        "\n",
        "manager= Gerente(\"Miguel\", \"gerente\", 5)\n",
        "print(manager)\n",
        "manager.trabajar()\n",
        "print(manager.nomina())\n",
        "manager.dar_aumento(fullStack)\n",
        "print(\"Salario del porgramador con aumento $\" + str(fullStack.salario))\n",
        "print(\"\\n\")\n",
        "\n",
        "asistant= Secretaria(\"María\", \"secretaria\", 2)\n",
        "print(asistant)\n",
        "asistant.trabajar()\n",
        "print(asistant.nomina())\n",
        "print(\"\\n\")\n"
      ],
      "metadata": {
        "id": "XndkFBB2JpTs",
        "colab": {
          "base_uri": "https://localhost:8080/"
        },
        "outputId": "d22df06f-accb-49ec-902c-cb343f964373"
      },
      "execution_count": null,
      "outputs": [
        {
          "output_type": "stream",
          "name": "stdout",
          "text": [
            "Luis es programador y tiene de antiguedad 1 años.\n",
            "Me encanta programar\n",
            "26000\n",
            "\n",
            "\n",
            "Miguel es gerente y tiene de antiguedad 5 años.\n",
            "Me encanta gerenciar\n",
            "50000\n",
            "505\n",
            "Salario del porgramador con aumento $25505\n",
            "\n",
            "\n",
            "María es secretaria y tiene de antiguedad 2 años.\n",
            "Me encanta apoyar\n",
            "17000\n",
            "\n",
            "\n"
          ]
        }
      ]
    }
  ]
}